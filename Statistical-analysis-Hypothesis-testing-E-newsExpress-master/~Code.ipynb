{
 "cells": [
  {
   "cell_type": "markdown",
   "id": "39e47200",
   "metadata": {},
   "source": [
    "### Background\n",
    "\n",
    "An online news portal aims to expand its business by acquiring new subscribers. Every visitor to the website takes certain actions based on their interest. The company plans to analyze these interests and wants to determine whether a new feature will be effective or not. \n",
    "\n",
    "The design team of the company has created a new landing page. Suppose you randomly selected 100 users and divided them equally into two groups. The old landing page is served to the first group (control group) and the new landing page is served to the second group (treatment group). Various data about the customers in both groups are collected in 'abtest.csv'. \n",
    "\n",
    "### Objective:\n",
    "\n",
    "Statistical analysis of business data. Explore the dataset and extract insights from the data.\n",
    "\n",
    "(1) Explore the dataset and extract insights using Exploratory Data Analysis.\n",
    "\n",
    "(2) Do the users spend more time on the new landing page than the old landing page?\n",
    "\n",
    "(3) Is the conversion rate (the proportion of users who visit the landing page and get converted) for the new page greater than the conversion rate for the old page?\n",
    "\n",
    "(4) Does the converted status depend on the preferred language? \n",
    "\n",
    "(5) Is the mean time spent on the new page same for the different language users?\n",
    "\n",
    "*Considering a significance level of 0.05 for all tests\n",
    "\n",
    "### Data Dictionary:\n",
    "\n",
    "* user_id - This represents the user ID of the person visiting the website.\n",
    "* group - This represents whether the user belongs to the first group (control) or the second group (treatment).\n",
    "* landing_page - This represents whether the landing page is new or old.\n",
    "* time_spent_on_the_page - This represents the time (in minutes) spent by the user on the landing page.\n",
    "* converted - This represents whether the user gets converted to a subscriber of the news portal or not.\n",
    "* language_preferred - This represents the language chosen by the user to view the landing page.\n"
   ]
  },
  {
   "cell_type": "code",
   "execution_count": 20,
   "id": "735e3317",
   "metadata": {},
   "outputs": [],
   "source": [
    "# importing necessary libraries \n",
    "\n",
    "import warnings\n",
    "warnings.filterwarnings(\"ignore\")\n",
    "import numpy as np\n",
    "import pandas as pd\n",
    "import seaborn as sns\n",
    "sns.set(color_codes=True)\n",
    "import matplotlib.pyplot as plt\n",
    "%matplotlib inline\n",
    "import scipy.stats as stats"
   ]
  },
  {
   "cell_type": "code",
   "execution_count": 21,
   "id": "11561f52",
   "metadata": {},
   "outputs": [
    {
     "data": {
      "text/html": [
       "<div>\n",
       "<style scoped>\n",
       "    .dataframe tbody tr th:only-of-type {\n",
       "        vertical-align: middle;\n",
       "    }\n",
       "\n",
       "    .dataframe tbody tr th {\n",
       "        vertical-align: top;\n",
       "    }\n",
       "\n",
       "    .dataframe thead th {\n",
       "        text-align: right;\n",
       "    }\n",
       "</style>\n",
       "<table border=\"1\" class=\"dataframe\">\n",
       "  <thead>\n",
       "    <tr style=\"text-align: right;\">\n",
       "      <th></th>\n",
       "      <th>user_id</th>\n",
       "      <th>group</th>\n",
       "      <th>landing_page</th>\n",
       "      <th>time_spent_on_the_page</th>\n",
       "      <th>converted</th>\n",
       "      <th>language_preferred</th>\n",
       "    </tr>\n",
       "  </thead>\n",
       "  <tbody>\n",
       "    <tr>\n",
       "      <th>0</th>\n",
       "      <td>546592</td>\n",
       "      <td>control</td>\n",
       "      <td>old</td>\n",
       "      <td>3.48</td>\n",
       "      <td>no</td>\n",
       "      <td>Spanish</td>\n",
       "    </tr>\n",
       "    <tr>\n",
       "      <th>1</th>\n",
       "      <td>546468</td>\n",
       "      <td>treatment</td>\n",
       "      <td>new</td>\n",
       "      <td>7.13</td>\n",
       "      <td>yes</td>\n",
       "      <td>English</td>\n",
       "    </tr>\n",
       "    <tr>\n",
       "      <th>2</th>\n",
       "      <td>546462</td>\n",
       "      <td>treatment</td>\n",
       "      <td>new</td>\n",
       "      <td>4.40</td>\n",
       "      <td>no</td>\n",
       "      <td>Spanish</td>\n",
       "    </tr>\n",
       "    <tr>\n",
       "      <th>3</th>\n",
       "      <td>546567</td>\n",
       "      <td>control</td>\n",
       "      <td>old</td>\n",
       "      <td>3.02</td>\n",
       "      <td>no</td>\n",
       "      <td>French</td>\n",
       "    </tr>\n",
       "    <tr>\n",
       "      <th>4</th>\n",
       "      <td>546459</td>\n",
       "      <td>treatment</td>\n",
       "      <td>new</td>\n",
       "      <td>4.75</td>\n",
       "      <td>yes</td>\n",
       "      <td>Spanish</td>\n",
       "    </tr>\n",
       "  </tbody>\n",
       "</table>\n",
       "</div>"
      ],
      "text/plain": [
       "   user_id      group landing_page  time_spent_on_the_page converted  \\\n",
       "0   546592    control          old                    3.48        no   \n",
       "1   546468  treatment          new                    7.13       yes   \n",
       "2   546462  treatment          new                    4.40        no   \n",
       "3   546567    control          old                    3.02        no   \n",
       "4   546459  treatment          new                    4.75       yes   \n",
       "\n",
       "  language_preferred  \n",
       "0            Spanish  \n",
       "1            English  \n",
       "2            Spanish  \n",
       "3             French  \n",
       "4            Spanish  "
      ]
     },
     "execution_count": 21,
     "metadata": {},
     "output_type": "execute_result"
    }
   ],
   "source": [
    "# reading data into dataframe\n",
    "\n",
    "data = pd.read_csv(\"abtest.csv\")\n",
    "data.head()"
   ]
  },
  {
   "cell_type": "code",
   "execution_count": 3,
   "id": "fd126d75",
   "metadata": {},
   "outputs": [
    {
     "name": "stdout",
     "output_type": "stream",
     "text": [
      "(100, 6) \n",
      "\n",
      "user_id                   0\n",
      "group                     0\n",
      "landing_page              0\n",
      "time_spent_on_the_page    0\n",
      "converted                 0\n",
      "language_preferred        0\n",
      "dtype: int64\n"
     ]
    }
   ],
   "source": [
    "# shape of the dataset, missing values\n",
    "\n",
    "print(data.shape, \"\\n\")\n",
    "print(data.isnull().sum())"
   ]
  },
  {
   "cell_type": "markdown",
   "id": "3602c90d",
   "metadata": {},
   "source": [
    "* The dataset contains 100 rows and 6 columns. The dataset does not contain any missing values."
   ]
  },
  {
   "cell_type": "code",
   "execution_count": 22,
   "id": "1980d2ab",
   "metadata": {},
   "outputs": [
    {
     "name": "stdout",
     "output_type": "stream",
     "text": [
      "<class 'pandas.core.frame.DataFrame'>\n",
      "RangeIndex: 100 entries, 0 to 99\n",
      "Data columns (total 6 columns):\n",
      " #   Column                  Non-Null Count  Dtype  \n",
      "---  ------                  --------------  -----  \n",
      " 0   user_id                 100 non-null    int64  \n",
      " 1   group                   100 non-null    object \n",
      " 2   landing_page            100 non-null    object \n",
      " 3   time_spent_on_the_page  100 non-null    float64\n",
      " 4   converted               100 non-null    object \n",
      " 5   language_preferred      100 non-null    object \n",
      "dtypes: float64(1), int64(1), object(4)\n",
      "memory usage: 4.8+ KB\n"
     ]
    }
   ],
   "source": [
    "# information about columns in dataset\n",
    "\n",
    "data.info()"
   ]
  },
  {
   "cell_type": "markdown",
   "id": "47feeb39",
   "metadata": {},
   "source": [
    "* user_id, time_spent_on_the_page are numerical \n",
    "* group, landing page, converted and language_preferred are categorical"
   ]
  },
  {
   "cell_type": "code",
   "execution_count": 5,
   "id": "5c61265c",
   "metadata": {},
   "outputs": [
    {
     "name": "stdout",
     "output_type": "stream",
     "text": [
      "count    100.000000\n",
      "mean       5.377800\n",
      "std        2.378166\n",
      "min        0.190000\n",
      "25%        3.880000\n",
      "50%        5.415000\n",
      "75%        7.022500\n",
      "max       10.710000\n",
      "Name: time_spent_on_the_page, dtype: float64\n"
     ]
    },
    {
     "data": {
      "text/html": [
       "<div>\n",
       "<style scoped>\n",
       "    .dataframe tbody tr th:only-of-type {\n",
       "        vertical-align: middle;\n",
       "    }\n",
       "\n",
       "    .dataframe tbody tr th {\n",
       "        vertical-align: top;\n",
       "    }\n",
       "\n",
       "    .dataframe thead th {\n",
       "        text-align: right;\n",
       "    }\n",
       "</style>\n",
       "<table border=\"1\" class=\"dataframe\">\n",
       "  <thead>\n",
       "    <tr style=\"text-align: right;\">\n",
       "      <th></th>\n",
       "      <th>user_id</th>\n",
       "      <th>group</th>\n",
       "      <th>landing_page</th>\n",
       "      <th>time_spent_on_the_page</th>\n",
       "      <th>converted</th>\n",
       "      <th>language_preferred</th>\n",
       "    </tr>\n",
       "  </thead>\n",
       "  <tbody>\n",
       "    <tr>\n",
       "      <th>count</th>\n",
       "      <td>100</td>\n",
       "      <td>100</td>\n",
       "      <td>100</td>\n",
       "      <td>100.00</td>\n",
       "      <td>100</td>\n",
       "      <td>100</td>\n",
       "    </tr>\n",
       "    <tr>\n",
       "      <th>unique</th>\n",
       "      <td>100</td>\n",
       "      <td>2</td>\n",
       "      <td>2</td>\n",
       "      <td>94.00</td>\n",
       "      <td>2</td>\n",
       "      <td>3</td>\n",
       "    </tr>\n",
       "    <tr>\n",
       "      <th>top</th>\n",
       "      <td>546560</td>\n",
       "      <td>treatment</td>\n",
       "      <td>old</td>\n",
       "      <td>5.86</td>\n",
       "      <td>yes</td>\n",
       "      <td>French</td>\n",
       "    </tr>\n",
       "    <tr>\n",
       "      <th>freq</th>\n",
       "      <td>1</td>\n",
       "      <td>50</td>\n",
       "      <td>50</td>\n",
       "      <td>2.00</td>\n",
       "      <td>54</td>\n",
       "      <td>34</td>\n",
       "    </tr>\n",
       "  </tbody>\n",
       "</table>\n",
       "</div>"
      ],
      "text/plain": [
       "        user_id      group landing_page  time_spent_on_the_page converted  \\\n",
       "count       100        100          100                  100.00       100   \n",
       "unique      100          2            2                   94.00         2   \n",
       "top      546560  treatment          old                    5.86       yes   \n",
       "freq          1         50           50                    2.00        54   \n",
       "\n",
       "       language_preferred  \n",
       "count                 100  \n",
       "unique                  3  \n",
       "top                French  \n",
       "freq                   34  "
      ]
     },
     "execution_count": 5,
     "metadata": {},
     "output_type": "execute_result"
    }
   ],
   "source": [
    "print(data[\"time_spent_on_the_page\"].describe())\n",
    "data.astype(\"object\").describe()"
   ]
  },
  {
   "cell_type": "markdown",
   "id": "3a641bba",
   "metadata": {},
   "source": [
    "* Mean & median time spent on the page are approximately equal, implying, negligible skewness.\n",
    "* There are two groups (control and treatment), two landing pages (old and new), each associated with 50 users.\n",
    "* Users prefer 3 different languages - english, french and spanish."
   ]
  },
  {
   "cell_type": "markdown",
   "id": "2e674c0b",
   "metadata": {},
   "source": [
    "### (1) Explore the dataset and extract insights using Exploratory Data Analysis."
   ]
  },
  {
   "cell_type": "markdown",
   "id": "ff5d610c",
   "metadata": {},
   "source": [
    "### Time spent on the landing pages - univariate and bivariate analysis "
   ]
  },
  {
   "cell_type": "code",
   "execution_count": 23,
   "id": "4acc46ce",
   "metadata": {},
   "outputs": [
    {
     "data": {
      "image/png": "[encoded data removed]",
      "text/plain": [
       "<Figure size 1440x360 with 3 Axes>"
      ]
     },
     "metadata": {
      "needs_background": "light"
     },
     "output_type": "display_data"
    },
    {
     "name": "stdout",
     "output_type": "stream",
     "text": [
      "Total & average time spent on the old landing page across 50 users (control group):  226.62 mins and 4.53 mins.\n",
      "Total & average time spent on the new landing page across 50 users (treatment group):  311.16 mins and 6.22 mins.\n"
     ]
    }
   ],
   "source": [
    "fig,ax = plt.subplots(1,3, figsize=(20,5))\n",
    "\n",
    "sns.histplot(data[\"time_spent_on_the_page\"], ax=ax[0], kde = True);\n",
    "ax[0].set_ylim((0,25))\n",
    "ax[0].axvline(data[\"time_spent_on_the_page\"].mean(), c = \"r\")\n",
    "ax[0].set_title(\"Time spent on either the old or new landing page\")\n",
    "\n",
    "\n",
    "data_old = data[ data[\"landing_page\"] == \"old\" ]\n",
    "sns.histplot(data_old[\"time_spent_on_the_page\"], ax=ax[1], kde = True);\n",
    "ax[1].set_ylim((0,25))\n",
    "ax[1].axvline(data_old[\"time_spent_on_the_page\"].mean(), c = \"r\")\n",
    "ax[1].set_title(\"Time spent on the old landing page\")\n",
    "\n",
    "data_new = data[ data[\"landing_page\"] == \"new\"]\n",
    "sns.histplot(data_new[\"time_spent_on_the_page\"], ax=ax[2], kde = True);\n",
    "ax[2].set_ylim((0,25))\n",
    "ax[2].axvline(data_new[\"time_spent_on_the_page\"].mean(), c = \"r\")\n",
    "ax[2].set_title(\"Time spent on the new landing page\")\n",
    "plt.show()\n",
    "\n",
    "print(\"Total & average time spent on the old landing page across 50 users (control group): \", \\\n",
    "      str(round(data_old[\"time_spent_on_the_page\"].sum(), 2))+ \" mins and\", \\\n",
    "      str(round(data_old[\"time_spent_on_the_page\"].mean(), 2))+ \" mins.\")\n",
    "\n",
    "print(\"Total & average time spent on the new landing page across 50 users (treatment group): \", \\\n",
    "      str(round(data_new[\"time_spent_on_the_page\"].sum(), 2))+ \" mins and\", \\\n",
    "      str(round(data_new[\"time_spent_on_the_page\"].mean(), 2))+ \" mins.\")"
   ]
  },
  {
   "cell_type": "markdown",
   "id": "7b4ce330",
   "metadata": {},
   "source": [
    "* Data for time spent on the new landing page appears to follow a normal distribution.\n",
    "* It appears that time spent on the new landing page follows a more normal distribution than time spent on the old landing page. Total (across all users) and average time spent on the new landing page is higher than on the old landing page."
   ]
  },
  {
   "cell_type": "markdown",
   "id": "833e3aad",
   "metadata": {},
   "source": [
    "### Conversion rate (the proportion of users who visit the landing page and get converted) - bivariate analysis"
   ]
  },
  {
   "cell_type": "code",
   "execution_count": 24,
   "id": "61b7233d",
   "metadata": {},
   "outputs": [
    {
     "data": {
      "image/png": "[encoded data removed]",
      "text/plain": [
       "<Figure size 432x288 with 1 Axes>"
      ]
     },
     "metadata": {
      "needs_background": "light"
     },
     "output_type": "display_data"
    },
    {
     "name": "stdout",
     "output_type": "stream",
     "text": [
      "% converted - old landing page:  42.0%\n",
      "% converted - new landing page:  66.0%\n"
     ]
    }
   ],
   "source": [
    "sns.countplot(x=\"converted\", data=data, hue=\"landing_page\");\n",
    "plt.show()\n",
    "\n",
    "print(\"% converted - old landing page: \", \\\n",
    "      str((data_old[data[\"converted\"]==\"yes\"].count()[\"group\"]/50)*100)+\"%\" )\n",
    "\n",
    "print(\"% converted - new landing page: \", \\\n",
    "      str((data_new[data[\"converted\"]==\"yes\"].count()[\"group\"]/50)*100)+\"%\" )"
   ]
  },
  {
   "cell_type": "markdown",
   "id": "f881c32b",
   "metadata": {},
   "source": [
    "* % conversion rate is higher for new landing page (66%) when compared to old landing page (42%)."
   ]
  },
  {
   "cell_type": "markdown",
   "id": "fced082b",
   "metadata": {},
   "source": [
    "### Relationship between conversion rate, preferred language and landing pages  - bivariate and multivariate analysis"
   ]
  },
  {
   "cell_type": "code",
   "execution_count": 31,
   "id": "1d26a0b5",
   "metadata": {},
   "outputs": [
    {
     "data": {
      "image/png": "[encoded data removed]",
      "text/plain": [
       "<Figure size 1440x504 with 3 Axes>"
      ]
     },
     "metadata": {
      "needs_background": "light"
     },
     "output_type": "display_data"
    },
    {
     "name": "stdout",
     "output_type": "stream",
     "text": [
      "Number of users that prefer English, French and Spanish in the dataset are 32, 34, and 34.\n",
      "\n",
      "% change in converted - new landing page vs old landing page:\n",
      "language_preferred\n",
      "English   -10.00\n",
      "French     75.00\n",
      "Spanish    36.36\n",
      "Name: user_id, dtype: float64\n"
     ]
    }
   ],
   "source": [
    "fig,ax = plt.subplots(1,3, figsize=(20,7))\n",
    "\n",
    "sns.countplot(x=\"language_preferred\", data=data.sort_values(\"language_preferred\", ascending = True), \\\n",
    "              hue=\"converted\", ax=ax[0]);\n",
    "ax[0].set_ylim((0,25))\n",
    "ax[0].set_title(\"Conversion rate\")\n",
    "\n",
    "sns.countplot(x=\"language_preferred\", data=data_old.sort_values(\"language_preferred\", ascending = True), \\\n",
    "              hue=\"converted\", ax=ax[1]);\n",
    "ax[1].set_ylim((0,25))\n",
    "ax[1].set_title(\"Conversion rate - old landing page\")\n",
    "\n",
    "sns.countplot(x=\"language_preferred\", data=data_new.sort_values(\"language_preferred\", ascending = True), \\\n",
    "              hue=\"converted\", ax=ax[2]);\n",
    "ax[2].set_ylim((0,25))\n",
    "ax[2].set_title(\"Conversion rate - new landing page\")\n",
    "\n",
    "plt.show()\n",
    "\n",
    "print(\"Number of users that prefer English, French and Spanish in the dataset are\",  \\\n",
    "      str(data.groupby(\"language_preferred\").count()[\"user_id\"][\"English\"])+\",\", \\\n",
    "      str(data.groupby(\"language_preferred\").count()[\"user_id\"][\"French\"])+\", and\", \\\n",
    "      str(data.groupby(\"language_preferred\").count()[\"user_id\"][\"Spanish\"])+\".\" +\"\\n\")\n",
    "\n",
    "data_new_converted = data_new[data[\"converted\"]==\"yes\"]\n",
    "data_old_converted = data_old[data[\"converted\"]==\"yes\"]\n",
    "\n",
    "print(\"% change in converted - new landing page vs old landing page:\")\n",
    "\n",
    "print(round(100*(data_new_converted.groupby(\"language_preferred\").count()[\"user_id\"] \\\n",
    "    - data_old_converted.groupby(\"language_preferred\").count()[\"user_id\"])/data_new_converted.groupby \\\n",
    "(\"language_preferred\").count()[\"user_id\"], 2))\n",
    "      "
   ]
  },
  {
   "cell_type": "markdown",
   "id": "9bafdc0a",
   "metadata": {},
   "source": [
    "* There are approximately equal number of English, French and Spanish preferring users (32, 34 and 34) in the dataset.\n",
    "* % change in conversion for new landing page vs. old landing page is -10% for english. This means users that prefer English, converted marginally more when on the older landing page.\n",
    "* % change in conversion for new landing page vs. old is 75% for French and 36.36% for Spanish. Users that prefer these languages, hence, converted more when on the new landing page. Conversion on the new landing page is very strong among users prefering French."
   ]
  },
  {
   "cell_type": "markdown",
   "id": "a938220b",
   "metadata": {},
   "source": [
    "### Relationship between time spent on the landing pages, and preferred language - bivariate and multivariate analysis"
   ]
  },
  {
   "cell_type": "code",
   "execution_count": 32,
   "id": "6e8a0b97",
   "metadata": {},
   "outputs": [
    {
     "data": {
      "image/png": "[encoded data removed]",
      "text/plain": [
       "<Figure size 1440x576 with 2 Axes>"
      ]
     },
     "metadata": {
      "needs_background": "light"
     },
     "output_type": "display_data"
    },
    {
     "name": "stdout",
     "output_type": "stream",
     "text": [
      "Average time spent on the new landing page by preferred language:\n",
      "language_preferred\n",
      "English    6.663750\n",
      "French     6.196471\n",
      "Spanish    5.835294\n",
      "Name: time_spent_on_the_page, dtype: float64\n"
     ]
    }
   ],
   "source": [
    "fig,ax = plt.subplots(1,2, figsize=(20,8))\n",
    "sns.stripplot(x=\"language_preferred\", y=\"time_spent_on_the_page\",\\\n",
    "              data=data.sort_values(\"language_preferred\", ascending = True), \\\n",
    "              hue=\"landing_page\", jitter=True, ax=ax[0]);\n",
    "sns.boxplot(x=\"language_preferred\", y=\"time_spent_on_the_page\", \\\n",
    "            data=data.sort_values(\"language_preferred\", ascending = True), \\\n",
    "            hue=\"landing_page\", ax=ax[1]);\n",
    "plt.show()\n",
    "print(\"Average time spent on the new landing page by preferred language:\")\n",
    "print(data_new.groupby(\"language_preferred\").mean()[\"time_spent_on_the_page\"])"
   ]
  },
  {
   "cell_type": "markdown",
   "id": "6570da5f",
   "metadata": {},
   "source": [
    "* The median time spent on the new landing page are significantly more than old landing page for all users irrespective of preferred language.\n",
    "* The mean time spent on the new landing page are 6.66mins, 6.19mins and 5.83 mins for users that speak English, French and Spanish. Further statistical testing needs to be performed to check if the variance is within language groups or in between language groups."
   ]
  },
  {
   "cell_type": "markdown",
   "id": "7accb6ca",
   "metadata": {},
   "source": [
    "### Statistical Analysis - using level of significance as 5%"
   ]
  },
  {
   "cell_type": "markdown",
   "id": "c917e531",
   "metadata": {},
   "source": [
    "### (2) Do the users spend more time on the new landing page than the old landing page?"
   ]
  },
  {
   "cell_type": "markdown",
   "id": "c2e970f9",
   "metadata": {},
   "source": [
    "* H0 : Null Hypothesis - The mean time spent on the new landing page is the same as the mean time spent on the old landing page.\n",
    "* Ha : Alternate Hypothesis - The mean time spent on the new landing page is higher than the mean time spent on the old landing page.\n",
    "\n",
    "Let μ1 and μ2 be the mean times spent on the new and old landing pages. \n",
    "* H0 : μ1 = μ2\n",
    "* Ha : μ1 > μ2"
   ]
  },
  {
   "cell_type": "code",
   "execution_count": 10,
   "id": "9299c3d9",
   "metadata": {},
   "outputs": [
    {
     "name": "stdout",
     "output_type": "stream",
     "text": [
      "μ1, μ2, std1, std2: 6.22, 4.53, 1.82, 2.58.\n"
     ]
    }
   ],
   "source": [
    "μ1, μ2 = data_new[\"time_spent_on_the_page\"].mean() , data_old[\"time_spent_on_the_page\"].mean()\n",
    "std1, std2 = data_new[\"time_spent_on_the_page\"].std() , data_old[\"time_spent_on_the_page\"].std()\n",
    "print(\"μ1, μ2, std1, std2:\", str(round(μ1,2))+\",\", str(round(μ2,2))+\",\", str(round(std1,2))+\",\"\\\n",
    "      , str(round(std2,2))+\".\")"
   ]
  },
  {
   "cell_type": "markdown",
   "id": "5f83ed15",
   "metadata": {},
   "source": [
    "* Continuous data - Yes, the time spent on landing pages is measured on a continuous scale.\n",
    "* Normally distributed populations - Looking at the histogram probability density curves, as well as considering larger sample sizes of 50 (>i.e., 30), normal distribution assumption holds.\n",
    "* Independent populations - As we are taking random samples from population for two different groups, the two samples are assumed to be independent.\n",
    "* Unequal population standard deviations - As the sample standard deviations are different, the population standard deviations may be assumed to be different."
   ]
  },
  {
   "cell_type": "markdown",
   "id": "9045edcd",
   "metadata": {},
   "source": [
    "#### Two Independent Sample T-test for Equality of Means - Unequal Std Dev"
   ]
  },
  {
   "cell_type": "code",
   "execution_count": 11,
   "id": "0c951033",
   "metadata": {},
   "outputs": [
    {
     "name": "stdout",
     "output_type": "stream",
     "text": [
      "The p-value is  0.0001392381225166549\n"
     ]
    }
   ],
   "source": [
    "from scipy.stats import ttest_ind\n",
    "\n",
    "# find the p-value\n",
    "test_stat, p_value = ttest_ind(data_new[\"time_spent_on_the_page\"], data_old[\"time_spent_on_the_page\"], \\\n",
    "                     equal_var = False, alternative = 'greater')\n",
    "print('The p-value is ', p_value)"
   ]
  },
  {
   "cell_type": "markdown",
   "id": "bd3336b6",
   "metadata": {},
   "source": [
    "#### Insight:\n",
    "As the p-value (~0.00014) is less than the level of significance, we can reject the null hypothesis. Hence, we do have enough evidence to support the claim that mean time spent on the new landing page is higher than mean time spent on the old landing page."
   ]
  },
  {
   "cell_type": "markdown",
   "id": "8b3d5fc2",
   "metadata": {},
   "source": [
    "### (3) Is the conversion rate (the proportion of users who visit the landing page and get converted) for the new page greater than the conversion rate for the old page?"
   ]
  },
  {
   "cell_type": "markdown",
   "id": "1e92cd0c",
   "metadata": {},
   "source": [
    "* H0 : Null Hypothesis - The conversion rate (the proportion of users who visit the landing page and get converted) for the new page is the same as the conversion rate for the old page.\n",
    "* Ha : Alternate Hypothesis - The conversion rate for the new page is greater than the conversion rate for the old page.\n",
    "\n",
    "Let p1 and p2 be the conversion rates for the new and old landing pages. \n",
    "* H0 : p1 = p2\n",
    "* Ha : p1 > p2"
   ]
  },
  {
   "cell_type": "markdown",
   "id": "2b5ce1c8",
   "metadata": {},
   "source": [
    "The formulated hypotheses are concerned with proportions. A test of proportions can be used to analyse the hypotheses and draw a conclusion. We shall use a Proportions Z test for this problem."
   ]
  },
  {
   "cell_type": "code",
   "execution_count": 12,
   "id": "bc21d42a",
   "metadata": {},
   "outputs": [
    {
     "name": "stdout",
     "output_type": "stream",
     "text": [
      "The conversion rates for new landing page and old landing page are 0.66 and 0.42 respectively.\n"
     ]
    }
   ],
   "source": [
    "convertedn_new = float(data_new[data[\"converted\"]==\"yes\"].count()[\"group\"])\n",
    "p1 = float(round(convertedn_new/50, 2))\n",
    "convertedn_old = float(data_old[data[\"converted\"]==\"yes\"].count()[\"group\"])\n",
    "p2 = float(round(convertedn_old/50, 2))\n",
    "\n",
    "print(f'The conversion rates for new landing page and old landing page are {p1} and {p2} respectively.')"
   ]
  },
  {
   "cell_type": "markdown",
   "id": "47ed5817",
   "metadata": {},
   "source": [
    "The proportions in the sample are larger for the new landing page. Let's conduct the test to see if this is significant."
   ]
  },
  {
   "cell_type": "markdown",
   "id": "0d92b56f",
   "metadata": {},
   "source": [
    "#### Two Proportion Z-test"
   ]
  },
  {
   "cell_type": "code",
   "execution_count": 13,
   "id": "9b8bb565",
   "metadata": {},
   "outputs": [
    {
     "name": "stdout",
     "output_type": "stream",
     "text": [
      "The p-value is 0.008026308204056278\n"
     ]
    }
   ],
   "source": [
    "from statsmodels.stats.proportion import proportions_ztest\n",
    "stat, pval = proportions_ztest([convertedn_new, convertedn_old], [50, 50], alternative = 'larger')\n",
    "\n",
    "# print the p-value\n",
    "print('The p-value is '+ str(pval))"
   ]
  },
  {
   "cell_type": "markdown",
   "id": "3cc77621",
   "metadata": {},
   "source": [
    "#### Insight:\n",
    "As the p-value (~0.008) is less than the level of significance, we can reject the null hypothesis. Hence, we do have enough evidence to support the claim that conversion rate for the new landing page is higher than conversion rate for the old landing page."
   ]
  },
  {
   "cell_type": "markdown",
   "id": "e65aa408",
   "metadata": {},
   "source": [
    "### (4) Does the converted status depend on the preferred language?"
   ]
  },
  {
   "cell_type": "markdown",
   "id": "dc470158",
   "metadata": {},
   "source": [
    "#### Create a contingency table using the pandas.crosstab() function"
   ]
  },
  {
   "cell_type": "code",
   "execution_count": 14,
   "id": "24fc4ef3",
   "metadata": {},
   "outputs": [
    {
     "data": {
      "text/html": [
       "<div>\n",
       "<style scoped>\n",
       "    .dataframe tbody tr th:only-of-type {\n",
       "        vertical-align: middle;\n",
       "    }\n",
       "\n",
       "    .dataframe tbody tr th {\n",
       "        vertical-align: top;\n",
       "    }\n",
       "\n",
       "    .dataframe thead th {\n",
       "        text-align: right;\n",
       "    }\n",
       "</style>\n",
       "<table border=\"1\" class=\"dataframe\">\n",
       "  <thead>\n",
       "    <tr style=\"text-align: right;\">\n",
       "      <th></th>\n",
       "      <th>converted</th>\n",
       "      <th>English</th>\n",
       "      <th>French</th>\n",
       "      <th>Spanish</th>\n",
       "    </tr>\n",
       "  </thead>\n",
       "  <tbody>\n",
       "    <tr>\n",
       "      <th>0</th>\n",
       "      <td>no</td>\n",
       "      <td>11</td>\n",
       "      <td>19</td>\n",
       "      <td>16</td>\n",
       "    </tr>\n",
       "    <tr>\n",
       "      <th>1</th>\n",
       "      <td>yes</td>\n",
       "      <td>21</td>\n",
       "      <td>15</td>\n",
       "      <td>18</td>\n",
       "    </tr>\n",
       "  </tbody>\n",
       "</table>\n",
       "</div>"
      ],
      "text/plain": [
       "  converted  English  French  Spanish\n",
       "0        no       11      19       16\n",
       "1       yes       21      15       18"
      ]
     },
     "execution_count": 14,
     "metadata": {},
     "output_type": "execute_result"
    }
   ],
   "source": [
    "lang_conv = pd.crosstab(data.converted, data.language_preferred).rename_axis(None,axis=1).reset_index()\n",
    "lang_conv"
   ]
  },
  {
   "cell_type": "markdown",
   "id": "c8c00613",
   "metadata": {},
   "source": [
    "* H0 : Null Hypothesis - Converted status is independent of the preferred language.\n",
    "* Ha : Alternate Hypothesis - Converted status is dependent on the preferred language.\n",
    "\n",
    "Let's test whether the assumptions are satisfied or not\n",
    "* Categorical variables - Yes\n",
    "* Expected value of the number of sample observations in each level of the variable is at least 5 - Yes, the number of observations in each level is greater than 5.\n",
    "* Random sampling from the population - Yes, we are informed that the collected sample is a simple random sample."
   ]
  },
  {
   "cell_type": "markdown",
   "id": "e3a77ecf",
   "metadata": {},
   "source": [
    "#### Chi-Square Test for Independence"
   ]
  },
  {
   "cell_type": "code",
   "execution_count": 15,
   "id": "7f793e96",
   "metadata": {},
   "outputs": [
    {
     "name": "stdout",
     "output_type": "stream",
     "text": [
      "The p-value is 0.21298887487543447\n"
     ]
    }
   ],
   "source": [
    "from scipy.stats import chi2_contingency\n",
    "\n",
    "# find the p-value\n",
    "chi, p_value, dof, expected = chi2_contingency(lang_conv.drop('converted', axis = 1))\n",
    "print('The p-value is', p_value)"
   ]
  },
  {
   "cell_type": "markdown",
   "id": "5374ce38",
   "metadata": {},
   "source": [
    "#### Insight:\n",
    "As the p-value (~0.21) is more than the level of significance, we can not reject the null hypothesis. Hence, we do not have enough evidence to support the claim that conversion rate is dependent on the preferred language."
   ]
  },
  {
   "cell_type": "markdown",
   "id": "997c28ed",
   "metadata": {},
   "source": [
    "### (5) Is the mean time spent on the new page same for the different language users?"
   ]
  },
  {
   "cell_type": "markdown",
   "id": "3a68d6d2",
   "metadata": {},
   "source": [
    "Let  μ1,  μ2,  μ3 be the mean time spent on the new landing page for the different language users - English, French and Spanish respectively.\n",
    "\n",
    "* H0:  μ1 =  μ2 = μ3\n",
    "* Ha: Atleast one of  μ1,  μ2, or  μ3 is different from the rest"
   ]
  },
  {
   "cell_type": "code",
   "execution_count": 16,
   "id": "d15c77a7",
   "metadata": {},
   "outputs": [
    {
     "data": {
      "image/png": "[encoded data removed]",
      "text/plain": [
       "<Figure size 504x504 with 1 Axes>"
      ]
     },
     "metadata": {
      "needs_background": "light"
     },
     "output_type": "display_data"
    }
   ],
   "source": [
    "plt.figure(figsize=(7,7))\n",
    "sns.boxplot(x=\"language_preferred\", y=\"time_spent_on_the_page\",\\\n",
    "            data=data_new.sort_values(\"language_preferred\", ascending = True));\n",
    "plt.ylabel(\"time spent on the new landing page (mins)\")\n",
    "plt.show()"
   ]
  },
  {
   "cell_type": "markdown",
   "id": "11b9ca74",
   "metadata": {},
   "source": [
    "Now, the normality and equality of variance assumptions need to be checked. \n",
    "\n",
    "* For testing of normality, Shapiro-Wilk’s test is applied to the response variable.\n",
    "\n",
    "* For equality of variance, Levene's test is applied to the response variable."
   ]
  },
  {
   "cell_type": "markdown",
   "id": "d5f02db6",
   "metadata": {},
   "source": [
    "#### Shapiro-Wilk’s test\n",
    "\n",
    "* H0: Time spent on the new landing page follows a normal distribution\n",
    "* Ha: Time spent on the new landing page does not follow a normal distribution"
   ]
  },
  {
   "cell_type": "code",
   "execution_count": 17,
   "id": "b7cee03e",
   "metadata": {},
   "outputs": [
    {
     "name": "stdout",
     "output_type": "stream",
     "text": [
      "The p-value is 0.8040016293525696\n"
     ]
    }
   ],
   "source": [
    "# find the p-value\n",
    "w, p_value = stats.shapiro(data_new['time_spent_on_the_page']) \n",
    "print('The p-value is', p_value)"
   ]
  },
  {
   "cell_type": "markdown",
   "id": "f3786e6b",
   "metadata": {},
   "source": [
    "#### Insight:\n",
    "Since p-value of the test is very large, we fail to reject the null hypothesis that the response follows the normal distribution."
   ]
  },
  {
   "cell_type": "markdown",
   "id": "65da1b7e",
   "metadata": {},
   "source": [
    "#### Levene’s test"
   ]
  },
  {
   "cell_type": "markdown",
   "id": "b110d8b6",
   "metadata": {},
   "source": [
    "* H0: All population variances (time spent on new landing page for different preferred languages) are equal.\n",
    "* Ha: Atleast one variance is different from the rest."
   ]
  },
  {
   "cell_type": "code",
   "execution_count": 18,
   "id": "41beebd5",
   "metadata": {},
   "outputs": [
    {
     "name": "stdout",
     "output_type": "stream",
     "text": [
      "The p-value is 0.46711357711340173\n"
     ]
    }
   ],
   "source": [
    "from scipy.stats import levene\n",
    "statistic, p_value = levene( data_new['time_spent_on_the_page'][data_new['language_preferred']==\"English\"], \n",
    "                             data_new['time_spent_on_the_page'][data_new['language_preferred']==\"French\"], \n",
    "                             data_new['time_spent_on_the_page'][data_new['language_preferred']==\"Spanish\"])\n",
    "# find the p-value\n",
    "print('The p-value is', p_value)"
   ]
  },
  {
   "cell_type": "markdown",
   "id": "3faca85e",
   "metadata": {},
   "source": [
    "Since the p-value is large, we fail to reject the null hypothesis of homogeneity of variances."
   ]
  },
  {
   "cell_type": "markdown",
   "id": "45203350",
   "metadata": {},
   "source": [
    "* The populations are normally distributed - Yes, the normality assumption is verified using the Shapiro-Wilk’s test.\n",
    "* Samples are independent simple random samples - Yes, we are informed that the collected sample is a simple random sample.\n",
    "* Population variances are equal - Yes, the homogeneity of variance assumption is verified using the Levene's test."
   ]
  },
  {
   "cell_type": "markdown",
   "id": "2c370209",
   "metadata": {},
   "source": [
    "#### One-way ANOVA Test"
   ]
  },
  {
   "cell_type": "code",
   "execution_count": 19,
   "id": "ac53bcdd",
   "metadata": {},
   "outputs": [
    {
     "name": "stdout",
     "output_type": "stream",
     "text": [
      "The p-value is 0.43204138694325955\n"
     ]
    }
   ],
   "source": [
    "from scipy.stats import f_oneway\n",
    "\n",
    "# perform one-way anova test\n",
    "test_stat, p_value = f_oneway(data_new.loc[data_new['language_preferred'] == 'English', 'time_spent_on_the_page'],\n",
    "                              data_new.loc[data_new['language_preferred'] == 'French', 'time_spent_on_the_page'],\n",
    "                              data_new.loc[data_new['language_preferred'] == 'Spanish', 'time_spent_on_the_page'])\n",
    "print('The p-value is ' + str(p_value))"
   ]
  },
  {
   "cell_type": "markdown",
   "id": "2de9560f",
   "metadata": {},
   "source": [
    "#### Insight: \n",
    "As the p-value (~0.43) is much more than the significance level, we fail to reject the null hypothesis. Hence, we do not have enough statistical significance to conclude that at least one mean time spent on the new landing page for diferrent preferred languages is different from the rest at 5% significance level."
   ]
  },
  {
   "cell_type": "markdown",
   "id": "542d3c65",
   "metadata": {},
   "source": [
    "### Summary\n",
    "\n",
    "#### Exploratory Data Analysis\n",
    "\n",
    "* Total (across all users) and average time spent on the new landing page (311.16 & 6.22 mins) is higher than on the old landing page (226.62 & 4.53 mins).\n",
    "* % conversion rate is higher for new landing page (66%) when compared to old landing page (42%).\n",
    "* There are apporximately equal number of English, French and Spanish preferring users (32, 34 and 34) in the dataset. % change in conversion for new landing page vs. old landing page is -10% for English, 75% for French and 36.36% for Spanish. Conversion when on the new landing page is very strong among users prefering French and marginally poor for users prefering English. \n",
    "* The median time spent on the new landing page are significantly more than old landing page for all users irrespective of preferred language. The mean time spent on the new landing page are 6.66mins, 6.19mins and 5.83 mins for users that speak English, French and Spanish (~approximately equal).\n",
    "\n",
    "#### Statistical Analysis\n",
    "\n",
    "* We statistically found enough evidence to support the claim that mean time spent on the new landing page is higher than mean time spent on the old landing page using a two independent sample T-test for equality of means - unequal std dev.\n",
    "* We statistically found enough evidence to support the claim that conversion rate for the new landing page is higher than conversion rate for the old landing page using a two proportion Z-test.\n",
    "* We did not find enough evidence to support the claim that conversion rate is dependent on the preferred language using a chi-square test for independence. \n",
    "* We did not find enough statistical significance to conclude that at least one mean time spent on the new landing page for different preferred languages is different from the rest at 5% significance level using One-way ANOVA Test. Normality and equality of variances assumptions for ANOVA were tested using Shapiro-Wilk’s test and Levene’s test respectively."
   ]
  },
  {
   "cell_type": "markdown",
   "id": "a5b13662",
   "metadata": {},
   "source": [
    "### Recommendations"
   ]
  },
  {
   "attachments": {},
   "cell_type": "markdown",
   "id": "20989ccd",
   "metadata": {},
   "source": [
    "* The new landing page was found to be statistically better in time spent by users on the page as well as the conversion rate of a user as a subscriber when compared to the old landing page. Hence, the new landing page is effective from business standpoint.\n",
    "\n",
    "\n",
    "* While we did not find enough statistical evidence from the dataset that conversion rate is dependent on the preferred language, exploratory data analysis of the dataset revealed that French and Spanish preferring users had a higher conversion rate on new landing page while English preferring users had a marginally poorer conversion rate on the new landing page. Also, did not find enough statistical significance to conclude that at least one of the mean time spent on the new landing page for different preferred languages is different from the rest (at 5% significance level or 95% confidence). - This needs to be communicated to the design team as it appears even though mean time spent by English preferring users on the new landing page is higher than old landing page, and similar to the Spanish and French preferring users, conversion rate was marginally poorer on the new landing page. Requires further data gathering and investigation.\n",
    "\n",
    "\n"
   ]
  }
 ],
 "metadata": {
  "kernelspec": {
   "display_name": "Python 3",
   "language": "python",
   "name": "python3"
  },
  "language_info": {
   "codemirror_mode": {
    "name": "ipython",
    "version": 3
   },
   "file_extension": ".py",
   "mimetype": "text/x-python",
   "name": "python",
   "nbconvert_exporter": "python",
   "pygments_lexer": "ipython3",
   "version": "3.8.8"
  }
 },
 "nbformat": 4,
 "nbformat_minor": 5
}
